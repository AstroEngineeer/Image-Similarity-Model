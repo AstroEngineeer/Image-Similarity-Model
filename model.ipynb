{
 "metadata": {
  "language_info": {
   "codemirror_mode": {
    "name": "ipython",
    "version": 3
   },
   "file_extension": ".py",
   "mimetype": "text/x-python",
   "name": "python",
   "nbconvert_exporter": "python",
   "pygments_lexer": "ipython3",
   "version": "3.8.5"
  },
  "orig_nbformat": 2,
  "kernelspec": {
   "name": "python3",
   "display_name": "Python 3.8.5 64-bit",
   "metadata": {
    "interpreter": {
     "hash": "916dbcbb3f70747c44a77c7bcd40155683ae19c65e1c03b4aa3499c5328201f1"
    }
   }
  }
 },
 "nbformat": 4,
 "nbformat_minor": 2,
 "cells": [
  {
   "cell_type": "code",
   "execution_count": null,
   "metadata": {},
   "outputs": [],
   "source": [
    "import turicreate as tc\n",
    "\n",
    "# Load images from the Caltech 101 dataset\n",
    "reference_data  = tc.image_analysis.load_images('./101_ObjectCategories')\n",
    "reference_data = reference_data.add_row_number()"
   ]
  },
  {
   "cell_type": "code",
   "execution_count": null,
   "metadata": {},
   "outputs": [],
   "source": [
    "# Save the SFrame for future use\n",
    "reference_data.save('./caltech-101.sframe')"
   ]
  },
  {
   "cell_type": "code",
   "execution_count": null,
   "metadata": {},
   "outputs": [],
   "source": [
    "#Train model\n",
    "model = tc.image_similarity.create(reference_data)"
   ]
  },
  {
   "cell_type": "code",
   "execution_count": null,
   "metadata": {},
   "outputs": [],
   "source": [
    "#Save the model for future use\n",
    "model.save('./caltech-101.model')\n"
   ]
  },
  {
   "cell_type": "code",
   "execution_count": null,
   "metadata": {},
   "outputs": [],
   "source": [
    "#To load existing model\n",
    "model = tc.load_model('./caltech-101.model')"
   ]
  },
  {
   "cell_type": "code",
   "execution_count": null,
   "metadata": {},
   "outputs": [],
   "source": [
    "#Quering for top 10 similar images (images from the dataset itself)\n",
    "query_results = model.query(reference_data[0:10], k=10)\n",
    "query_results.head()"
   ]
  },
  {
   "cell_type": "code",
   "execution_count": null,
   "metadata": {},
   "outputs": [],
   "source": [
    "#Displaying the results\n",
    "similar_rows = query_results[query_results['query_label'] == 9]['reference_label']\n",
    "reference_data.filter_by(similar_rows, 'id').explore()"
   ]
  },
  {
   "cell_type": "code",
   "execution_count": null,
   "metadata": {},
   "outputs": [],
   "source": [
    "#Quering for top 10 similar images (custom images)\n",
    "query_results = model.query(tc.Image('/home/vignesh/Projects/Image-Similarity-Model/sample_images/pigeon.jpg'), k=1)\n",
    "query_results.head()"
   ]
  },
  {
   "cell_type": "code",
   "execution_count": null,
   "metadata": {},
   "outputs": [],
   "source": [
    "#Displaying the results\n",
    "reference_data.filter_by(query_results['reference_label'], 'id').explore()"
   ]
  }
 ]
}
