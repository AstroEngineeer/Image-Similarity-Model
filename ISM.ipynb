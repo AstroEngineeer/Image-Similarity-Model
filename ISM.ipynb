{
 "metadata": {
  "language_info": {
   "codemirror_mode": {
    "name": "ipython",
    "version": 3
   },
   "file_extension": ".py",
   "mimetype": "text/x-python",
   "name": "python",
   "nbconvert_exporter": "python",
   "pygments_lexer": "ipython3",
   "version": "3.8.8-final"
  },
  "orig_nbformat": 2,
  "kernelspec": {
   "name": "python3",
   "display_name": "Python 3.8.8 64-bit",
   "metadata": {
    "interpreter": {
     "hash": "e2ebc9618fb5f5407b11492d3d8b4a02d39e77fbbc3b477930cec636582b7fc5"
    }
   }
  }
 },
 "nbformat": 4,
 "nbformat_minor": 2,
 "cells": [
  {
   "cell_type": "code",
   "execution_count": null,
   "metadata": {},
   "outputs": [],
   "source": [
    "import turicreate as tc\n",
    "\n",
    "# Load images from the downloaded data\n",
    "reference_data  = tc.image_analysis.load_images('./256_ObjectCategories')\n",
    "reference_data = reference_data.add_row_number()\n",
    "\n",
    "# Save the SFrame for future use\n",
    "reference_data.save('./caltech-256.sframe')"
   ]
  },
  {
   "cell_type": "code",
   "execution_count": null,
   "metadata": {},
   "outputs": [],
   "source": [
    "model = tc.image_similarity.create(reference_data)"
   ]
  },
  {
   "cell_type": "code",
   "execution_count": null,
   "metadata": {},
   "outputs": [],
   "source": [
    "query_results = model.query(reference_data[0:10], k=10)\n",
    "query_results.head()"
   ]
  },
  {
   "cell_type": "code",
   "execution_count": null,
   "metadata": {},
   "outputs": [],
   "source": [
    "similar_rows = query_results[query_results['query_label'] == 9]['reference_label']\n",
    "reference_data.filter_by(similar_rows, 'id').explore()"
   ]
  }
 ]
}